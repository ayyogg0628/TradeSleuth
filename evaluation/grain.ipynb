{
 "cells": [
  {
   "cell_type": "code",
   "execution_count": 1,
   "metadata": {},
   "outputs": [],
   "source": [
    "# load raw data and cleaned data\n",
    "import pandas as pd\n",
    "import numpy as np\n",
    "import re\n",
    "import swifter\n",
    "import warnings\n",
    "warnings.filterwarnings(\"ignore\")\n",
    "\n",
    "raw_data = pd.read_excel(\"../raw data/grain.xlsx\")\n",
    "cleaned_data = pd.read_csv(\"../cleaned data/grain.csv\")"
   ]
  },
  {
   "cell_type": "code",
   "execution_count": 2,
   "metadata": {},
   "outputs": [],
   "source": [
    "def count_diff(old, new, columns):\n",
    "  old_df = old.copy().replace('', np.nan).fillna('redacted')\n",
    "  new_df = new.copy().replace('', np.nan).fillna('redacted')\n",
    "  correct = 0\n",
    "  for col in columns:\n",
    "    if col not in old_df.columns:\n",
    "      continue\n",
    "    for i in range(len(new_df[col])):\n",
    "      if new_df[col][i] == old_df[col][i]:\n",
    "        correct += 1\n",
    "  return len(old_df)*len(columns) - correct"
   ]
  },
  {
   "cell_type": "code",
   "execution_count": 3,
   "metadata": {},
   "outputs": [
    {
     "data": {
      "text/plain": [
       "Index(['DataSource', 'Date', 'CustomsCode', 'SeqNum', 'SenderTaxID',\n",
       "       'SenderNameEng', 'SenderNameRus', 'SenderAddressEng',\n",
       "       'SenderAddressRus', 'SenderRegionCode', 'RecipientNameEng',\n",
       "       'RecipientNameRus', 'RecipientAddressEng', 'RecipientAddressRus',\n",
       "       'ContractHolderTaxID', 'ContractHolderNameEng', 'ContractHolderNameRus',\n",
       "       'ContractHolderAddressEng', 'ContractHolderAddressRus',\n",
       "       'ContracHolderRegionCode', 'TradingCountryCode', 'DeclarantTaxID',\n",
       "       'DeclarantNameEng', 'DeclarantNameRU', 'DeclarantAddressEng',\n",
       "       'DeclarantAddressRU', 'DeclarantRegionCode', 'DepartureCountryCode',\n",
       "       'CountryOrigin', 'DestinationCountryCode', 'DestinationCountryEng',\n",
       "       'DestinationCountryRus', 'Incoterms', 'PortUnladingEng',\n",
       "       'PortLadingRus', 'ContractCurrency', 'ShipmentDescriptionEng',\n",
       "       'ShipmentDescriptionEngRus', 'ManufactNameEng', 'ManufactNameRus',\n",
       "       'TrademarkEng', 'TrademarkRus', 'CountryOriginShort', 'HS',\n",
       "       'CountryOriginCode', 'GrossWeightKG', 'NetWeightKG', 'InvoiceValue',\n",
       "       'StatValue_USD', 'DeclarantPOC_Eng', 'DeclarantPOC_Rus', 'Month',\n",
       "       'Year', 'HTS10GenDescEng', 'CommodityBroadClass', 'ProductForm',\n",
       "       'SenderCompanyKeywordsEng', 'SenderCompanyKeywordsRus',\n",
       "       'RecipientCompanyKeywordsRus', 'RecipientCompanyKeywordsEng',\n",
       "       'TradingCountryEng'],\n",
       "      dtype='object')"
      ]
     },
     "execution_count": 3,
     "metadata": {},
     "output_type": "execute_result"
    }
   ],
   "source": [
    "cleaned_data.columns"
   ]
  },
  {
   "cell_type": "code",
   "execution_count": 4,
   "metadata": {},
   "outputs": [],
   "source": [
    "# num_cols: columns that should be numerical -> check for incorrect format\n",
    "num_cols = ['DataSource', 'Date', 'CustomsCode', 'SeqNum', 'SenderTaxID', 'SenderRegionCode', 'ContractHolderTaxID', 'ContracHolderRegionCode', 'DeclarantTaxID', 'DeclarantRegionCode', 'HS', 'GrossWeightKG', 'NetWeightKG', 'InvoiceValue', 'StatValue_USD', 'Year']\n",
    "\n",
    "# str_cols: columns that should be string -> check for misspellings\n",
    "str_cols = list(cleaned_data.columns)\n",
    "for col in num_cols:\n",
    "  str_cols.remove(col)"
   ]
  },
  {
   "cell_type": "code",
   "execution_count": 5,
   "metadata": {},
   "outputs": [
    {
     "name": "stdout",
     "output_type": "stream",
     "text": [
      "In raw data:\n",
      "56 columns, 145217 rows\n",
      "66.9416533286638 % of missing values.\n",
      "2.841695531514905 % of incorrect formats.\n",
      "18.05533940394184 % of misspellings.\n",
      "\n",
      "85.93512456259637 % of correct values.\n"
     ]
    }
   ],
   "source": [
    "print(f\"In raw data:\")\n",
    "print(f\"{len(list(raw_data.columns))} columns, {len(raw_data)} rows\")\n",
    "print(f\"{100*raw_data.isna().sum().sum()/(len(raw_data)*len(raw_data.columns))} % of missing values.\")\n",
    "print(f\"{100*count_diff(raw_data, cleaned_data, num_cols)/(len(raw_data)*len(num_cols))} % of incorrect formats.\")\n",
    "print(f\"{100*count_diff(raw_data, cleaned_data, str_cols)/(len(raw_data)*len(str_cols))} % of misspellings.\")\n",
    "print(f\"\\n{100-100*count_diff(raw_data, cleaned_data, list(cleaned_data.columns))/(len(raw_data)*len(list(cleaned_data.columns)))} % of correct values.\")"
   ]
  },
  {
   "cell_type": "code",
   "execution_count": 6,
   "metadata": {},
   "outputs": [
    {
     "name": "stdout",
     "output_type": "stream",
     "text": [
      "In cleaned data:\n",
      "61 columns, 145217 rows\n",
      "62.10466032913773 % of missing values.\n"
     ]
    }
   ],
   "source": [
    "print(f\"In cleaned data:\")\n",
    "print(f\"{len(cleaned_data.columns)} columns, {len(cleaned_data)} rows\")\n",
    "print(f\"{100*cleaned_data.isna().sum().sum()/(len(cleaned_data)*len(cleaned_data.columns))} % of missing values.\")"
   ]
  },
  {
   "cell_type": "code",
   "execution_count": 5,
   "metadata": {},
   "outputs": [],
   "source": [
    "import datetime\n",
    "import dateutil\n",
    "from gensim.models import KeyedVectors\n",
    "import nltk\n",
    "from sklearn.cluster import KMeans\n",
    "import warnings\n",
    "warnings.filterwarnings(\"ignore\")\n",
    "import langdetect\n",
    "import string\n",
    "import re\n",
    "import pycountry"
   ]
  },
  {
   "cell_type": "markdown",
   "metadata": {},
   "source": [
    "## TradeSleuth"
   ]
  },
  {
   "cell_type": "code",
   "execution_count": 8,
   "metadata": {},
   "outputs": [],
   "source": [
    "df = pd.read_csv(\"../tradesleuth/grain.csv\")"
   ]
  },
  {
   "cell_type": "code",
   "execution_count": 9,
   "metadata": {},
   "outputs": [
    {
     "name": "stdout",
     "output_type": "stream",
     "text": [
      "\n",
      "Columns dropped correctly: True\n",
      "\n",
      "Before cleaning: 0.0 % of incorrect dates.\n",
      "Clean Dates: 0.0 % of incorrect dates.\n",
      "\n",
      "Before cleaning: 45.46712850423848 % of incorrect SenderTaxID.\n",
      "Clean strings: 1.3097640083461304 % of incorrect SenderTaxID.\n",
      "\n",
      "Before cleaning: 58.101324225125154 % of misspelled SenderNameEng.\n",
      "Clean strings: 16.05046241142566 % of misspelled SenderNameEng.\n",
      "\n",
      "Before cleaning: 100.0 % of misspelled SenderCompanyKeywordsEng.\n",
      "Clean strings: 46.34305900824284 % of misspelled SenderCompanyKeywordsEng.\n",
      "\n",
      "Before cleaning: 99.08550651783193 % of misspelled SenderNameRus.\n",
      "Clean strings: 0.0 % of misspelled SenderNameRus.\n",
      "\n",
      "Before cleaning: 100.0 % of misspelled SenderCompanyKeywordsRus.\n",
      "Clean strings: 2.114766177513652 % of misspelled SenderCompanyKeywordsRus.\n",
      "\n",
      "Before cleaning: 53.00756798446463 % of misspelled RecipientNameEng.\n",
      "Clean strings: 30.625890908089275 % of misspelled RecipientNameEng.\n",
      "\n",
      "Before cleaning: 100.0 % of misspelled RecipientCompanyKeywordsEng.\n",
      "Clean strings: 29.57298387929788 % of misspelled RecipientCompanyKeywordsEng.\n",
      "\n",
      "Before cleaning: 76.44008621580117 % of misspelled RecipientNameRus.\n",
      "Clean strings: 0.0 % of misspelled RecipientNameRus.\n",
      "\n",
      "Before cleaning: 100.0 % of misspelled RecipientCompanyKeywordsRus.\n",
      "Clean strings: 16.297678646439465 % of misspelled RecipientCompanyKeywordsRus.\n",
      "\n",
      "Before cleaning: 25.855788234159913 % of misspelled TradingCountryCode.\n",
      "Clean TradingCountryCode: 1.6912620423228686 % of misspelled TradingCountryCode.\n",
      "Add new TradingCountryEng: 1.6905734177128022 % of misspelled TradingCountryEng.\n"
     ]
    }
   ],
   "source": [
    "print(f\"\\nColumns dropped correctly: {list(df.columns)==list(cleaned_data.columns)}\")\n",
    "\n",
    "print(f\"\\nBefore cleaning: {100*count_diff(raw_data, cleaned_data, ['Date'])/len(raw_data)} % of incorrect dates.\")\n",
    "print(f\"Clean Dates: {100*count_diff(df, cleaned_data, ['Date'])/len(df)} % of incorrect dates.\")\n",
    "\n",
    "print(f\"\\nBefore cleaning: {100*count_diff(raw_data, cleaned_data, ['SenderTaxID'])/len(df)} % of incorrect SenderTaxID.\")\n",
    "print(f\"Clean strings: {100*count_diff(df, cleaned_data, ['SenderTaxID'])/len(df)} % of incorrect SenderTaxID.\")\n",
    "\n",
    "print(f\"\\nBefore cleaning: {100*count_diff(raw_data, cleaned_data, ['SenderNameEng'])/len(df)} % of misspelled SenderNameEng.\")\n",
    "print(f\"Clean strings: {100*count_diff(df, cleaned_data, ['SenderNameEng'])/len(df)} % of misspelled SenderNameEng.\")\n",
    "\n",
    "print(f\"\\nBefore cleaning: {100*count_diff(raw_data, cleaned_data, ['SenderCompanyKeywordsEng'])/len(raw_data)} % of misspelled SenderCompanyKeywordsEng.\")\n",
    "print(f\"Clean strings: {100*count_diff(df, cleaned_data, ['SenderCompanyKeywordsEng'])/len(df)} % of misspelled SenderCompanyKeywordsEng.\")\n",
    "\n",
    "print(f\"\\nBefore cleaning: {100*count_diff(raw_data, cleaned_data, ['SenderNameRus'])/len(df)} % of misspelled SenderNameRus.\")\n",
    "print(f\"Clean strings: {100*count_diff(df, cleaned_data, ['SenderNameRus'])/len(df)} % of misspelled SenderNameRus.\")\n",
    "\n",
    "print(f\"\\nBefore cleaning: {100*count_diff(raw_data, cleaned_data, ['SenderCompanyKeywordsRus'])/len(raw_data)} % of misspelled SenderCompanyKeywordsRus.\")\n",
    "print(f\"Clean strings: {100*count_diff(df, cleaned_data, ['SenderCompanyKeywordsRus'])/len(df)} % of misspelled SenderCompanyKeywordsRus.\")\n",
    "\n",
    "print(f\"\\nBefore cleaning: {100*count_diff(raw_data, cleaned_data, ['RecipientNameEng'])/len(df)} % of misspelled RecipientNameEng.\")\n",
    "print(f\"Clean strings: {100*count_diff(df, cleaned_data, ['RecipientNameEng'])/len(df)} % of misspelled RecipientNameEng.\")\n",
    "\n",
    "print(f\"\\nBefore cleaning: {100*count_diff(raw_data, cleaned_data, ['RecipientCompanyKeywordsEng'])/len(raw_data)} % of misspelled RecipientCompanyKeywordsEng.\")\n",
    "print(f\"Clean strings: {100*count_diff(df, cleaned_data, ['RecipientCompanyKeywordsEng'])/len(df)} % of misspelled RecipientCompanyKeywordsEng.\")\n",
    "\n",
    "print(f\"\\nBefore cleaning: {100*count_diff(raw_data, cleaned_data, ['RecipientNameRus'])/len(df)} % of misspelled RecipientNameRus.\")\n",
    "print(f\"Clean strings: {100*count_diff(df, cleaned_data, ['RecipientNameRus'])/len(df)} % of misspelled RecipientNameRus.\")\n",
    "\n",
    "print(f\"\\nBefore cleaning: {100*count_diff(raw_data, cleaned_data, ['RecipientCompanyKeywordsRus'])/len(raw_data)} % of misspelled RecipientCompanyKeywordsRus.\")\n",
    "print(f\"Clean strings: {100*count_diff(df, cleaned_data, ['RecipientCompanyKeywordsRus'])/len(df)} % of misspelled RecipientCompanyKeywordsRus.\")\n",
    "\n",
    "print(f\"\\nBefore cleaning: {100*count_diff(raw_data, cleaned_data, ['TradingCountryCode'])/len(df)} % of misspelled TradingCountryCode.\")\n",
    "print(f\"Clean TradingCountryCode: {100*count_diff(df, cleaned_data, ['TradingCountryCode'])/len(df)} % of misspelled TradingCountryCode.\")\n",
    "\n",
    "print(f\"Add new TradingCountryEng: {100*count_diff(df, cleaned_data, ['TradingCountryEng'])/len(df)} % of misspelled TradingCountryEng.\")\n"
   ]
  },
  {
   "cell_type": "code",
   "execution_count": 10,
   "metadata": {},
   "outputs": [
    {
     "name": "stdout",
     "output_type": "stream",
     "text": [
      "Clean data by TradeSleuth:\n",
      "\n",
      "61 columns, 145217 rows\n",
      "63.5698390097262 % of missing values.\n",
      "0.08186025052163315 % of incorrect formats.\n",
      "3.2085928109120987 % of misspellings.\n",
      "\n",
      "97.61153376230507 % of correct values.\n",
      "\n",
      "Average time to generate correct code: 117.40955803294976 s.\n",
      "Average # of revises to generate correct code: 1.3333333333333333.\n",
      "Accepted first-time codes: 12/18.\n"
     ]
    }
   ],
   "source": [
    "print(f\"Clean data by TradeSleuth:\\n\")\n",
    "print(f\"{len(list(df.columns))} columns, {len(df)} rows\")\n",
    "print(f\"{100*df.isna().sum().sum()/(len(df)*len(df.columns))} % of missing values.\")\n",
    "print(f\"{100*count_diff(df, cleaned_data, num_cols)/(len(df)*len(num_cols))} % of incorrect formats.\")\n",
    "print(f\"{100*count_diff(df, cleaned_data, str_cols)/(len(df)*len(str_cols))} % of misspellings.\")\n",
    "print(f\"\\n{100-100*count_diff(df, cleaned_data, list(cleaned_data.columns))/(len(df)*len(cleaned_data.columns))} % of correct values.\")\n",
    "\n",
    "Time = [93.67544879950583, 139.763936647214, 295.38386161159724, 131.8704272089526, 80.32765847630799, 98.21110245306045,  24.688365072011948, 132.6472505601123, 216.22981783840805, 109.28068511374295, 95.59803623426706, 25.8256891714409, 72.3488785456866, 17.52883837558329, 112.04637297987938, 135.24875590577722, 84.50601254869252, 248.19090705085546]\n",
    "Iteration = [1, 2, 2, 1, 1, 1, 1, 1, 2, 1, 1, 1, 1, 1, 1, 2, 1]\n",
    "\n",
    "total_time = np.sum(Time)\n",
    "total_iteration = np.sum(Iteration)\n",
    "first_time_cnt = 0\n",
    "for i in Iteration:\n",
    "  if Iteration[i] == 1:\n",
    "    first_time_cnt += 1\n",
    "print(f\"\\nAverage time to generate correct code: {total_time/len(Time)} s.\")\n",
    "print(f\"Average # of revises to generate correct code: {total_iteration/len(Iteration)}.\")\n",
    "print(f\"Accepted first-time codes: {first_time_cnt}/{len(Iteration)}.\")\n"
   ]
  },
  {
   "cell_type": "markdown",
   "metadata": {},
   "source": [
    "## Baseline 1"
   ]
  },
  {
   "cell_type": "code",
   "execution_count": 11,
   "metadata": {},
   "outputs": [],
   "source": [
    "df = pd.read_csv(\"../baseline_1/grain.csv\")"
   ]
  },
  {
   "cell_type": "code",
   "execution_count": 12,
   "metadata": {},
   "outputs": [
    {
     "name": "stdout",
     "output_type": "stream",
     "text": [
      "\n",
      "Columns dropped correctly: False\n",
      "\n",
      "Before cleaning: 0.0 % of incorrect dates.\n",
      "Clean Dates: 100.0 % of incorrect dates.\n",
      "\n",
      "Before cleaning: 45.46712850423848 % of incorrect SenderTaxID.\n",
      "Clean strings: 54.86341130859335 % of incorrect SenderTaxID.\n",
      "\n",
      "Before cleaning: 58.101324225125154 % of misspelled SenderNameEng.\n",
      "Clean strings: 50.79295123849136 % of misspelled SenderNameEng.\n",
      "\n",
      "Before cleaning: 100.0 % of misspelled SenderCompanyKeywordsEng.\n",
      "Clean strings: 48.09974038852201 % of misspelled SenderCompanyKeywordsEng.\n",
      "\n",
      "Before cleaning: 99.08550651783193 % of misspelled SenderNameRus.\n",
      "Clean strings: 97.82463485680051 % of misspelled SenderNameRus.\n",
      "\n",
      "Before cleaning: 100.0 % of misspelled SenderCompanyKeywordsRus.\n",
      "Clean strings: 6.936515697197986 % of misspelled SenderCompanyKeywordsRus.\n",
      "\n",
      "Before cleaning: 53.00756798446463 % of misspelled RecipientNameEng.\n",
      "Clean strings: 52.68391441773346 % of misspelled RecipientNameEng.\n",
      "\n",
      "Before cleaning: 100.0 % of misspelled RecipientCompanyKeywordsEng.\n",
      "Clean strings: 100.0 % of misspelled RecipientCompanyKeywordsEng.\n",
      "\n",
      "Before cleaning: 76.44008621580117 % of misspelled RecipientNameRus.\n",
      "Clean strings: 99.31275263915381 % of misspelled RecipientNameRus.\n",
      "\n",
      "Before cleaning: 100.0 % of misspelled RecipientCompanyKeywordsRus.\n",
      "Clean strings: 100.0 % of misspelled RecipientCompanyKeywordsRus.\n",
      "\n",
      "Before cleaning: 25.855788234159913 % of misspelled TradingCountryCode.\n",
      "Clean TradingCountryCode: 35.09781912585992 % of misspelled TradingCountryCode.\n",
      "Add new TradingCountryEng: 25.89159671388336 % of misspelled TradingCountryEng.\n"
     ]
    }
   ],
   "source": [
    "print(f\"\\nColumns dropped correctly: {list(df.columns)==list(cleaned_data.columns)}\")\n",
    "\n",
    "print(f\"\\nBefore cleaning: {100*count_diff(raw_data, cleaned_data, ['Date'])/len(raw_data)} % of incorrect dates.\")\n",
    "print(f\"Clean Dates: {100*count_diff(df, cleaned_data, ['Date'])/len(df)} % of incorrect dates.\")\n",
    "\n",
    "print(f\"\\nBefore cleaning: {100*count_diff(raw_data, cleaned_data, ['SenderTaxID'])/len(df)} % of incorrect SenderTaxID.\")\n",
    "print(f\"Clean strings: {100*count_diff(df, cleaned_data, ['SenderTaxID'])/len(df)} % of incorrect SenderTaxID.\")\n",
    "\n",
    "print(f\"\\nBefore cleaning: {100*count_diff(raw_data, cleaned_data, ['SenderNameEng'])/len(df)} % of misspelled SenderNameEng.\")\n",
    "print(f\"Clean strings: {100*count_diff(df, cleaned_data, ['SenderNameEng'])/len(df)} % of misspelled SenderNameEng.\")\n",
    "\n",
    "print(f\"\\nBefore cleaning: {100*count_diff(raw_data, cleaned_data, ['SenderCompanyKeywordsEng'])/len(raw_data)} % of misspelled SenderCompanyKeywordsEng.\")\n",
    "print(f\"Clean strings: {100*count_diff(df, cleaned_data, ['SenderCompanyKeywordsEng'])/len(df)} % of misspelled SenderCompanyKeywordsEng.\")\n",
    "\n",
    "print(f\"\\nBefore cleaning: {100*count_diff(raw_data, cleaned_data, ['SenderNameRus'])/len(df)} % of misspelled SenderNameRus.\")\n",
    "print(f\"Clean strings: {100*count_diff(df, cleaned_data, ['SenderNameRus'])/len(df)} % of misspelled SenderNameRus.\")\n",
    "\n",
    "print(f\"\\nBefore cleaning: {100*count_diff(raw_data, cleaned_data, ['SenderCompanyKeywordsRus'])/len(raw_data)} % of misspelled SenderCompanyKeywordsRus.\")\n",
    "print(f\"Clean strings: {100*count_diff(df, cleaned_data, ['SenderCompanyKeywordsRus'])/len(df)} % of misspelled SenderCompanyKeywordsRus.\")\n",
    "\n",
    "print(f\"\\nBefore cleaning: {100*count_diff(raw_data, cleaned_data, ['RecipientNameEng'])/len(df)} % of misspelled RecipientNameEng.\")\n",
    "print(f\"Clean strings: {100*count_diff(df, cleaned_data, ['RecipientNameEng'])/len(df)} % of misspelled RecipientNameEng.\")\n",
    "\n",
    "print(f\"\\nBefore cleaning: {100*count_diff(raw_data, cleaned_data, ['RecipientCompanyKeywordsEng'])/len(raw_data)} % of misspelled RecipientCompanyKeywordsEng.\")\n",
    "print(f\"Clean strings: {100*count_diff(df, cleaned_data, ['RecipientCompanyKeywordsEng'])/len(df)} % of misspelled RecipientCompanyKeywordsEng.\")\n",
    "\n",
    "print(f\"\\nBefore cleaning: {100*count_diff(raw_data, cleaned_data, ['RecipientNameRus'])/len(df)} % of misspelled RecipientNameRus.\")\n",
    "print(f\"Clean strings: {100*count_diff(df, cleaned_data, ['RecipientNameRus'])/len(df)} % of misspelled RecipientNameRus.\")\n",
    "\n",
    "print(f\"\\nBefore cleaning: {100*count_diff(raw_data, cleaned_data, ['RecipientCompanyKeywordsRus'])/len(raw_data)} % of misspelled RecipientCompanyKeywordsRus.\")\n",
    "print(f\"Clean strings: {100*count_diff(df, cleaned_data, ['RecipientCompanyKeywordsRus'])/len(df)} % of misspelled RecipientCompanyKeywordsRus.\")\n",
    "\n",
    "print(f\"\\nBefore cleaning: {100*count_diff(raw_data, cleaned_data, ['TradingCountryCode'])/len(df)} % of misspelled TradingCountryCode.\")\n",
    "print(f\"Clean TradingCountryCode: {100*count_diff(df, cleaned_data, ['TradingCountryCode'])/len(df)} % of misspelled TradingCountryCode.\")\n",
    "\n",
    "print(f\"Add new TradingCountryEng: {100*count_diff(df, cleaned_data, ['TradingCountryEng'])/len(df)} % of misspelled TradingCountryEng.\")\n"
   ]
  },
  {
   "cell_type": "code",
   "execution_count": 13,
   "metadata": {},
   "outputs": [
    {
     "name": "stdout",
     "output_type": "stream",
     "text": [
      "Clean data by baseline-1:\n",
      "\n",
      "61 columns, 145217 rows\n",
      "3.7596081477612304 % of missing values.\n",
      "9.678963206787085 % of incorrect formats.\n",
      "14.430327639938085 % of misspellings.\n",
      "\n",
      "86.81593188351135 % of correct values.\n",
      "\n",
      "Average time to generate correct code: 104.86647989595723 s.\n",
      "Average # of revises to generate correct code: 2.111111111111111.\n",
      "Accepted first-time codes: 5/18.\n"
     ]
    }
   ],
   "source": [
    "print(f\"Clean data by baseline-1:\\n\")\n",
    "print(f\"{len(list(df.columns))} columns, {len(df)} rows\")\n",
    "print(f\"{100*df.isna().sum().sum()/(len(df)*len(df.columns))} % of missing values.\")\n",
    "print(f\"{100*count_diff(df, cleaned_data, num_cols)/(len(df)*len(num_cols))} % of incorrect formats.\")\n",
    "print(f\"{100*count_diff(df, cleaned_data, str_cols)/(len(df)*len(str_cols))} % of misspellings.\")\n",
    "print(f\"\\n{100-100*count_diff(df, cleaned_data, list(cleaned_data.columns))/(len(df)*len(cleaned_data.columns))} % of correct values.\")\n",
    "\n",
    "Time = [42.153190053999424, 122.69757836963981, 297.48250592593104, 95.18260069657117, 65.96513758599758, 194.2544194124639, 137.84166275989264, 44.167533341795206, 62.70578438322991, 70.22155686840415, 159.21151913143694, 69.0654486157, 41.72477652877569, 100.52077276725322, 231.55241945479065, 96.9347566459328, 42.15626517217606, 13.758710413239896]\n",
    "Iteration = [1, 3, 4, 2, 2, 4, 3, 1, 2, 2, 3, 2, 1, 2, 2, 2, 1, 1]\n",
    "\n",
    "total_time = np.sum(Time)\n",
    "total_iteration = np.sum(Iteration)\n",
    "first_time_cnt = 0\n",
    "for i in Iteration:\n",
    "  if Iteration[i] == 1:\n",
    "    first_time_cnt += 1\n",
    "print(f\"\\nAverage time to generate correct code: {total_time/len(Time)} s.\")\n",
    "print(f\"Average # of revises to generate correct code: {total_iteration/len(Iteration)}.\")\n",
    "print(f\"Accepted first-time codes: {first_time_cnt}/{len(Iteration)}.\")"
   ]
  },
  {
   "cell_type": "markdown",
   "metadata": {},
   "source": [
    "## Baseline 2"
   ]
  },
  {
   "cell_type": "code",
   "execution_count": 14,
   "metadata": {},
   "outputs": [],
   "source": [
    "df = pd.read_csv(\"../baseline_2/grain.csv\")"
   ]
  },
  {
   "cell_type": "code",
   "execution_count": 15,
   "metadata": {},
   "outputs": [
    {
     "name": "stdout",
     "output_type": "stream",
     "text": [
      "\n",
      "Columns dropped correctly: True\n",
      "\n",
      "Before cleaning: 0.0 % of incorrect dates.\n",
      "Clean Dates: 0.0 % of incorrect dates.\n",
      "\n",
      "Before cleaning: 45.46712850423848 % of incorrect SenderTaxID.\n",
      "Clean strings: 1.4619500471707858 % of incorrect SenderTaxID.\n",
      "\n",
      "Before cleaning: 58.101324225125154 % of misspelled SenderNameEng.\n",
      "Clean strings: 5.219774544302664 % of misspelled SenderNameEng.\n",
      "\n",
      "Before cleaning: 100.0 % of misspelled SenderCompanyKeywordsEng.\n",
      "Clean strings: 47.460696750380464 % of misspelled SenderCompanyKeywordsEng.\n",
      "\n",
      "Before cleaning: 99.08550651783193 % of misspelled SenderNameRus.\n",
      "Clean strings: 1.0274279182189414 % of misspelled SenderNameRus.\n",
      "\n",
      "Before cleaning: 100.0 % of misspelled SenderCompanyKeywordsRus.\n",
      "Clean strings: 2.114766177513652 % of misspelled SenderCompanyKeywordsRus.\n",
      "\n",
      "Before cleaning: 53.00756798446463 % of misspelled RecipientNameEng.\n",
      "Clean strings: 1.6444355688383592 % of misspelled RecipientNameEng.\n",
      "\n",
      "Before cleaning: 100.0 % of misspelled RecipientCompanyKeywordsEng.\n",
      "Clean strings: 29.569540756247548 % of misspelled RecipientCompanyKeywordsEng.\n",
      "\n",
      "Before cleaning: 76.44008621580117 % of misspelled RecipientNameRus.\n",
      "Clean strings: 0.0 % of misspelled RecipientNameRus.\n",
      "\n",
      "Before cleaning: 100.0 % of misspelled RecipientCompanyKeywordsRus.\n",
      "Clean strings: 16.297678646439465 % of misspelled RecipientCompanyKeywordsRus.\n",
      "\n",
      "Before cleaning: 25.855788234159913 % of misspelled TradingCountryCode.\n",
      "Clean TradingCountryCode: 1.6912620423228686 % of misspelled TradingCountryCode.\n",
      "Add new TradingCountryEng: 1.6905734177128022 % of misspelled TradingCountryEng.\n"
     ]
    }
   ],
   "source": [
    "print(f\"\\nColumns dropped correctly: {list(df.columns)==list(cleaned_data.columns)}\")\n",
    "\n",
    "print(f\"\\nBefore cleaning: {100*count_diff(raw_data, cleaned_data, ['Date'])/len(raw_data)} % of incorrect dates.\")\n",
    "print(f\"Clean Dates: {100*count_diff(df, cleaned_data, ['Date'])/len(df)} % of incorrect dates.\")\n",
    "\n",
    "print(f\"\\nBefore cleaning: {100*count_diff(raw_data, cleaned_data, ['SenderTaxID'])/len(df)} % of incorrect SenderTaxID.\")\n",
    "print(f\"Clean strings: {100*count_diff(df, cleaned_data, ['SenderTaxID'])/len(df)} % of incorrect SenderTaxID.\")\n",
    "\n",
    "print(f\"\\nBefore cleaning: {100*count_diff(raw_data, cleaned_data, ['SenderNameEng'])/len(df)} % of misspelled SenderNameEng.\")\n",
    "print(f\"Clean strings: {100*count_diff(df, cleaned_data, ['SenderNameEng'])/len(df)} % of misspelled SenderNameEng.\")\n",
    "\n",
    "print(f\"\\nBefore cleaning: {100*count_diff(raw_data, cleaned_data, ['SenderCompanyKeywordsEng'])/len(raw_data)} % of misspelled SenderCompanyKeywordsEng.\")\n",
    "print(f\"Clean strings: {100*count_diff(df, cleaned_data, ['SenderCompanyKeywordsEng'])/len(df)} % of misspelled SenderCompanyKeywordsEng.\")\n",
    "\n",
    "print(f\"\\nBefore cleaning: {100*count_diff(raw_data, cleaned_data, ['SenderNameRus'])/len(df)} % of misspelled SenderNameRus.\")\n",
    "print(f\"Clean strings: {100*count_diff(df, cleaned_data, ['SenderNameRus'])/len(df)} % of misspelled SenderNameRus.\")\n",
    "\n",
    "print(f\"\\nBefore cleaning: {100*count_diff(raw_data, cleaned_data, ['SenderCompanyKeywordsRus'])/len(raw_data)} % of misspelled SenderCompanyKeywordsRus.\")\n",
    "print(f\"Clean strings: {100*count_diff(df, cleaned_data, ['SenderCompanyKeywordsRus'])/len(df)} % of misspelled SenderCompanyKeywordsRus.\")\n",
    "\n",
    "print(f\"\\nBefore cleaning: {100*count_diff(raw_data, cleaned_data, ['RecipientNameEng'])/len(df)} % of misspelled RecipientNameEng.\")\n",
    "print(f\"Clean strings: {100*count_diff(df, cleaned_data, ['RecipientNameEng'])/len(df)} % of misspelled RecipientNameEng.\")\n",
    "\n",
    "print(f\"\\nBefore cleaning: {100*count_diff(raw_data, cleaned_data, ['RecipientCompanyKeywordsEng'])/len(raw_data)} % of misspelled RecipientCompanyKeywordsEng.\")\n",
    "print(f\"Clean strings: {100*count_diff(df, cleaned_data, ['RecipientCompanyKeywordsEng'])/len(df)} % of misspelled RecipientCompanyKeywordsEng.\")\n",
    "\n",
    "print(f\"\\nBefore cleaning: {100*count_diff(raw_data, cleaned_data, ['RecipientNameRus'])/len(df)} % of misspelled RecipientNameRus.\")\n",
    "print(f\"Clean strings: {100*count_diff(df, cleaned_data, ['RecipientNameRus'])/len(df)} % of misspelled RecipientNameRus.\")\n",
    "\n",
    "print(f\"\\nBefore cleaning: {100*count_diff(raw_data, cleaned_data, ['RecipientCompanyKeywordsRus'])/len(raw_data)} % of misspelled RecipientCompanyKeywordsRus.\")\n",
    "print(f\"Clean strings: {100*count_diff(df, cleaned_data, ['RecipientCompanyKeywordsRus'])/len(df)} % of misspelled RecipientCompanyKeywordsRus.\")\n",
    "\n",
    "print(f\"\\nBefore cleaning: {100*count_diff(raw_data, cleaned_data, ['TradingCountryCode'])/len(df)} % of misspelled TradingCountryCode.\")\n",
    "print(f\"Clean TradingCountryCode: {100*count_diff(df, cleaned_data, ['TradingCountryCode'])/len(df)} % of misspelled TradingCountryCode.\")\n",
    "\n",
    "print(f\"Add new TradingCountryEng: {100*count_diff(df, cleaned_data, ['TradingCountryEng'])/len(df)} % of misspelled TradingCountryEng.\")\n"
   ]
  },
  {
   "cell_type": "code",
   "execution_count": 16,
   "metadata": {},
   "outputs": [
    {
     "name": "stdout",
     "output_type": "stream",
     "text": [
      "Clean data by baseline-2:\n",
      "\n",
      "61 columns, 145217 rows\n",
      "63.06803486969247 % of missing values.\n",
      "0.09137187794817411 % of incorrect formats.\n",
      "2.3714701293772613 % of misspellings.\n",
      "\n",
      "98.22658842837463 % of correct values.\n",
      "\n",
      "Average time to generate correct code: 137.42686481566892 s.\n",
      "Average # of revises to generate correct code: 2.1666666666666665.\n",
      "Accepted first-time codes: 5/18.\n"
     ]
    }
   ],
   "source": [
    "print(f\"Clean data by baseline-2:\\n\")\n",
    "print(f\"{len(list(df.columns))} columns, {len(df)} rows\")\n",
    "print(f\"{100*df.isna().sum().sum()/(len(df)*len(df.columns))} % of missing values.\")\n",
    "print(f\"{100*count_diff(df, cleaned_data, num_cols)/(len(df)*len(num_cols))} % of incorrect formats.\")\n",
    "print(f\"{100*count_diff(df, cleaned_data, str_cols)/(len(df)*len(str_cols))} % of misspellings.\")\n",
    "print(f\"\\n{100-100*count_diff(df, cleaned_data, list(cleaned_data.columns))/(len(df)*len(cleaned_data.columns))} % of correct values.\")\n",
    "\n",
    "Time = [82.79690059833229, 74.76355464849621, 341.520237961784, 278.81876710243523, 155.45799873024225, 197.6665946384892, 269.72608721535653, 76.24833997152746, 90.93382281530648, 173.23573657125235, 152.10720858257264, 20.26302487310022, 147.44158242456615, 106.10498212091625, 29.529840392060578, 100.52237946912646, 62.34795117378235, 114.19855739269406]\n",
    "Iteration = [2, 1, 7, 3, 2, 3, 2, 1, 1, 2, 2, 3, 2, 2, 2, 1, 2, 1]\n",
    "\n",
    "total_time = np.sum(Time)\n",
    "total_iteration = np.sum(Iteration)\n",
    "first_time_cnt = 0\n",
    "for i in Iteration:\n",
    "  if Iteration[i] == 1:\n",
    "    first_time_cnt += 1\n",
    "print(f\"\\nAverage time to generate correct code: {total_time/len(Time)} s.\")\n",
    "print(f\"Average # of revises to generate correct code: {total_iteration/len(Iteration)}.\")\n",
    "print(f\"Accepted first-time codes: {first_time_cnt}/{len(Iteration)}.\")"
   ]
  },
  {
   "cell_type": "markdown",
   "metadata": {},
   "source": [
    "## Baseline 3"
   ]
  },
  {
   "cell_type": "code",
   "execution_count": 25,
   "metadata": {},
   "outputs": [],
   "source": [
    "df = pd.read_csv(\"../baseline_3/grain.csv\")"
   ]
  },
  {
   "cell_type": "code",
   "execution_count": 26,
   "metadata": {},
   "outputs": [
    {
     "name": "stdout",
     "output_type": "stream",
     "text": [
      "\n",
      "Columns dropped correctly: True\n",
      "\n",
      "Before cleaning: 0.0 % of incorrect dates.\n",
      "Clean Dates: 0.0 % of incorrect dates.\n",
      "\n",
      "Before cleaning: 45.46712850423848 % of incorrect SenderTaxID.\n",
      "Clean strings: 1.3097640083461304 % of incorrect SenderTaxID.\n",
      "\n",
      "Before cleaning: 58.101324225125154 % of misspelled SenderNameEng.\n",
      "Clean strings: 1.5969204707437834 % of misspelled SenderNameEng.\n",
      "\n",
      "Before cleaning: 100.0 % of misspelled SenderCompanyKeywordsEng.\n",
      "Clean strings: 46.34305900824284 % of misspelled SenderCompanyKeywordsEng.\n",
      "\n",
      "Before cleaning: 99.08550651783193 % of misspelled SenderNameRus.\n",
      "Clean strings: 0.0 % of misspelled SenderNameRus.\n",
      "\n",
      "Before cleaning: 100.0 % of misspelled SenderCompanyKeywordsRus.\n",
      "Clean strings: 2.114766177513652 % of misspelled SenderCompanyKeywordsRus.\n",
      "\n",
      "Before cleaning: 53.00756798446463 % of misspelled RecipientNameEng.\n",
      "Clean strings: 14.472823429763732 % of misspelled RecipientNameEng.\n",
      "\n",
      "Before cleaning: 100.0 % of misspelled RecipientCompanyKeywordsEng.\n",
      "Clean strings: 29.569540756247548 % of misspelled RecipientCompanyKeywordsEng.\n",
      "\n",
      "Before cleaning: 76.44008621580117 % of misspelled RecipientNameRus.\n",
      "Clean strings: 0.0 % of misspelled RecipientNameRus.\n",
      "\n",
      "Before cleaning: 100.0 % of misspelled RecipientCompanyKeywordsRus.\n",
      "Clean strings: 16.297678646439465 % of misspelled RecipientCompanyKeywordsRus.\n",
      "\n",
      "Before cleaning: 25.855788234159913 % of misspelled TradingCountryCode.\n",
      "Clean TradingCountryCode: 99.9573052741759 % of misspelled TradingCountryCode.\n",
      "Add new TradingCountryEng: 88.71481989023324 % of misspelled TradingCountryEng.\n"
     ]
    }
   ],
   "source": [
    "print(f\"\\nColumns dropped correctly: {list(df.columns)==list(cleaned_data.columns)}\")\n",
    "\n",
    "print(f\"\\nBefore cleaning: {100*count_diff(raw_data, cleaned_data, ['Date'])/len(raw_data)} % of incorrect dates.\")\n",
    "print(f\"Clean Dates: {100*count_diff(df, cleaned_data, ['Date'])/len(df)} % of incorrect dates.\")\n",
    "\n",
    "print(f\"\\nBefore cleaning: {100*count_diff(raw_data, cleaned_data, ['SenderTaxID'])/len(df)} % of incorrect SenderTaxID.\")\n",
    "print(f\"Clean strings: {100*count_diff(df, cleaned_data, ['SenderTaxID'])/len(df)} % of incorrect SenderTaxID.\")\n",
    "\n",
    "print(f\"\\nBefore cleaning: {100*count_diff(raw_data, cleaned_data, ['SenderNameEng'])/len(df)} % of misspelled SenderNameEng.\")\n",
    "print(f\"Clean strings: {100*count_diff(df, cleaned_data, ['SenderNameEng'])/len(df)} % of misspelled SenderNameEng.\")\n",
    "\n",
    "print(f\"\\nBefore cleaning: {100*count_diff(raw_data, cleaned_data, ['SenderCompanyKeywordsEng'])/len(raw_data)} % of misspelled SenderCompanyKeywordsEng.\")\n",
    "print(f\"Clean strings: {100*count_diff(df, cleaned_data, ['SenderCompanyKeywordsEng'])/len(df)} % of misspelled SenderCompanyKeywordsEng.\")\n",
    "\n",
    "print(f\"\\nBefore cleaning: {100*count_diff(raw_data, cleaned_data, ['SenderNameRus'])/len(df)} % of misspelled SenderNameRus.\")\n",
    "print(f\"Clean strings: {100*count_diff(df, cleaned_data, ['SenderNameRus'])/len(df)} % of misspelled SenderNameRus.\")\n",
    "\n",
    "print(f\"\\nBefore cleaning: {100*count_diff(raw_data, cleaned_data, ['SenderCompanyKeywordsRus'])/len(raw_data)} % of misspelled SenderCompanyKeywordsRus.\")\n",
    "print(f\"Clean strings: {100*count_diff(df, cleaned_data, ['SenderCompanyKeywordsRus'])/len(df)} % of misspelled SenderCompanyKeywordsRus.\")\n",
    "\n",
    "print(f\"\\nBefore cleaning: {100*count_diff(raw_data, cleaned_data, ['RecipientNameEng'])/len(df)} % of misspelled RecipientNameEng.\")\n",
    "print(f\"Clean strings: {100*count_diff(df, cleaned_data, ['RecipientNameEng'])/len(df)} % of misspelled RecipientNameEng.\")\n",
    "\n",
    "print(f\"\\nBefore cleaning: {100*count_diff(raw_data, cleaned_data, ['RecipientCompanyKeywordsEng'])/len(raw_data)} % of misspelled RecipientCompanyKeywordsEng.\")\n",
    "print(f\"Clean strings: {100*count_diff(df, cleaned_data, ['RecipientCompanyKeywordsEng'])/len(df)} % of misspelled RecipientCompanyKeywordsEng.\")\n",
    "\n",
    "print(f\"\\nBefore cleaning: {100*count_diff(raw_data, cleaned_data, ['RecipientNameRus'])/len(df)} % of misspelled RecipientNameRus.\")\n",
    "print(f\"Clean strings: {100*count_diff(df, cleaned_data, ['RecipientNameRus'])/len(df)} % of misspelled RecipientNameRus.\")\n",
    "\n",
    "print(f\"\\nBefore cleaning: {100*count_diff(raw_data, cleaned_data, ['RecipientCompanyKeywordsRus'])/len(raw_data)} % of misspelled RecipientCompanyKeywordsRus.\")\n",
    "print(f\"Clean strings: {100*count_diff(df, cleaned_data, ['RecipientCompanyKeywordsRus'])/len(df)} % of misspelled RecipientCompanyKeywordsRus.\")\n",
    "\n",
    "print(f\"\\nBefore cleaning: {100*count_diff(raw_data, cleaned_data, ['TradingCountryCode'])/len(df)} % of misspelled TradingCountryCode.\")\n",
    "print(f\"Clean TradingCountryCode: {100*count_diff(df, cleaned_data, ['TradingCountryCode'])/len(df)} % of misspelled TradingCountryCode.\")\n",
    "\n",
    "print(f\"Add new TradingCountryEng: {100*count_diff(df, cleaned_data, ['TradingCountryEng'])/len(df)} % of misspelled TradingCountryEng.\")\n"
   ]
  },
  {
   "cell_type": "code",
   "execution_count": 27,
   "metadata": {},
   "outputs": [
    {
     "name": "stdout",
     "output_type": "stream",
     "text": [
      "Clean data by baseline-3:\n",
      "\n",
      "61 columns, 145217 rows\n",
      "66.22382083477784 % of missing values.\n",
      "0.08186025052163315 % of incorrect formats.\n",
      "6.645931414519114 % of misspellings.\n",
      "\n",
      "95.07579216948022 % of correct values.\n",
      "\n",
      "Average time to generate correct code: 369.9893349241595 s.\n",
      "Average # of revises to generate correct code: 1.3888888888888888.\n",
      "Accepted first-time codes: 12/18.\n"
     ]
    }
   ],
   "source": [
    "print(f\"Clean data by baseline-3:\\n\")\n",
    "print(f\"{len(list(df.columns))} columns, {len(df)} rows\")\n",
    "print(f\"{100*df.isna().sum().sum()/(len(df)*len(df.columns))} % of missing values.\")\n",
    "print(f\"{100*count_diff(df, cleaned_data, num_cols)/(len(df)*len(num_cols))} % of incorrect formats.\")\n",
    "print(f\"{100*count_diff(df, cleaned_data, str_cols)/(len(df)*len(str_cols))} % of misspellings.\")\n",
    "print(f\"\\n{100-100*count_diff(df, cleaned_data, list(cleaned_data.columns))/(len(df)*len(cleaned_data.columns))} % of correct values.\")\n",
    "\n",
    "Time = [770.5227210589801, 38.336533748020884, 245.21183773397934, 544.7312183660106, 279.3751202769927, 663.6051533879945, 38.2295560730272, 147.3523692509625, 482.5904520439799, 394.9338829119806, 329.95859223697335, 28.52144992700778, 127.52958833199227, 278.80991287797224, 512.4843540079892, 952.2394041509833, 173.6739858740475, 651.7018963759765]\n",
    "Iteration = [1, 1, 2, 2, 1, 1, 1, 3, 2, 1, 1, 1, 2, 1, 1, 2, 1, 1]\n",
    "\n",
    "total_time = np.sum(Time)\n",
    "total_iteration = np.sum(Iteration)\n",
    "first_time_cnt = 0\n",
    "for i in Iteration:\n",
    "  if Iteration[i] == 1:\n",
    "    first_time_cnt += 1\n",
    "print(f\"\\nAverage time to generate correct code: {total_time/len(Time)} s.\")\n",
    "print(f\"Average # of revises to generate correct code: {total_iteration/len(Iteration)}.\")\n",
    "print(f\"Accepted first-time codes: {first_time_cnt}/{len(Iteration)}.\")"
   ]
  }
 ],
 "metadata": {
  "kernelspec": {
   "display_name": "Python 3",
   "language": "python",
   "name": "python3"
  },
  "language_info": {
   "codemirror_mode": {
    "name": "ipython",
    "version": 3
   },
   "file_extension": ".py",
   "mimetype": "text/x-python",
   "name": "python",
   "nbconvert_exporter": "python",
   "pygments_lexer": "ipython3",
   "version": "3.10.13"
  }
 },
 "nbformat": 4,
 "nbformat_minor": 2
}
