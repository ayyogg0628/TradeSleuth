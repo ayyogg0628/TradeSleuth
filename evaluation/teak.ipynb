{
 "cells": [
  {
   "cell_type": "code",
   "execution_count": 81,
   "metadata": {},
   "outputs": [],
   "source": [
    "# load raw data and cleaned data\n",
    "import pandas as pd\n",
    "import numpy as np\n",
    "import re\n",
    "import swifter\n",
    "import warnings\n",
    "warnings.filterwarnings(\"ignore\")\n",
    "\n",
    "raw_data = pd.read_excel(\"../raw data/teak.xlsx\")\n",
    "cleaned_data = pd.read_csv(\"../cleaned data/teak.csv\")"
   ]
  },
  {
   "cell_type": "code",
   "execution_count": 134,
   "metadata": {},
   "outputs": [],
   "source": [
    "def count_diff(old, new, columns):\n",
    "  old_df = old.copy().replace('', np.nan).fillna('nan')\n",
    "  new_df = new.copy().replace('', np.nan).fillna('nan')\n",
    "  correct = 0\n",
    "  for col in columns:\n",
    "    if col not in old_df.columns:\n",
    "      continue\n",
    "    for i in range(len(new_df[col])):\n",
    "      if new_df[col][i] == old_df[col][i]:\n",
    "        correct += 1\n",
    "  return len(old_df)*len(columns) - correct"
   ]
  },
  {
   "cell_type": "code",
   "execution_count": 83,
   "metadata": {},
   "outputs": [
    {
     "data": {
      "text/plain": [
       "Index(['Bill of Lading Number', 'Arrival Date', 'Consignee',\n",
       "       'Consignee Country', 'Consignee Full Address', 'Consignee Profile',\n",
       "       'Shipper', 'Shipper Country', 'Shipper Full Address',\n",
       "       'Shipper Trade Roles', 'Shipper (Original Format)', 'Carrier',\n",
       "       'Shipment Origin', 'Shipment Destination', 'Port of Unlading',\n",
       "       'Port of Lading', 'Vessel', 'Vessel IMO', 'Volume (TEU)', 'Quantity',\n",
       "       'Weight (kg)', 'Manifest Number', 'Container Numbers', 'HS Code',\n",
       "       'Goods Shipped', 'HS4'],\n",
       "      dtype='object')"
      ]
     },
     "execution_count": 83,
     "metadata": {},
     "output_type": "execute_result"
    }
   ],
   "source": [
    "cleaned_data.columns"
   ]
  },
  {
   "cell_type": "code",
   "execution_count": 84,
   "metadata": {},
   "outputs": [],
   "source": [
    "# num_cols: columns that should be numerical -> check for incorrect format\n",
    "num_cols = ['Bill of Lading Number', 'Arrival Date', 'Vessel IMO', 'Volume (TEU)', 'Quantity', 'Weight (kg)', 'Manifest Number', 'Container Numbers', 'HS Code', 'HS4']\n",
    "\n",
    "# str_cols: columns that should be string -> check for misspellings\n",
    "str_cols = list(cleaned_data.columns)\n",
    "for col in num_cols:\n",
    "  str_cols.remove(col)"
   ]
  },
  {
   "cell_type": "code",
   "execution_count": 96,
   "metadata": {},
   "outputs": [
    {
     "name": "stdout",
     "output_type": "stream",
     "text": [
      "In raw data:\n",
      "127 columns, 69134 rows\n",
      "48.769774731669116 % of missing values.\n",
      "19.98900685625018 % of incorrect formats.\n",
      "9.288483235455782 % of misspellings.\n",
      "\n",
      "86.59593075654638 % of correct values.\n"
     ]
    }
   ],
   "source": [
    "print(f\"In raw data:\")\n",
    "print(f\"{len(list(raw_data.columns))} columns, {len(raw_data)} rows\")\n",
    "print(f\"{100*raw_data.isna().sum().sum()/(len(raw_data)*len(raw_data.columns))} % of missing values.\")\n",
    "print(f\"{100*count_diff(raw_data, cleaned_data, num_cols)/(len(raw_data)*len(num_cols))} % of incorrect formats.\")\n",
    "print(f\"{100*count_diff(raw_data, cleaned_data, str_cols)/(len(raw_data)*len(str_cols))} % of misspellings.\")\n",
    "print(f\"\\n{100-100*count_diff(raw_data, cleaned_data, list(cleaned_data.columns))/(len(raw_data)*len(list(cleaned_data.columns)))} % of correct values.\")"
   ]
  },
  {
   "cell_type": "code",
   "execution_count": 97,
   "metadata": {},
   "outputs": [
    {
     "name": "stdout",
     "output_type": "stream",
     "text": [
      "In cleaned data:\n",
      "26 columns, 69134 rows\n",
      "7.572306624147975 % of missing values.\n"
     ]
    }
   ],
   "source": [
    "print(f\"In cleaned data:\")\n",
    "print(f\"{len(cleaned_data.columns)} columns, {len(cleaned_data)} rows\")\n",
    "print(f\"{100*cleaned_data.isna().sum().sum()/(len(cleaned_data)*len(cleaned_data.columns))} % of missing values.\")"
   ]
  },
  {
   "cell_type": "code",
   "execution_count": 87,
   "metadata": {},
   "outputs": [],
   "source": [
    "import datetime\n",
    "import dateutil\n",
    "from gensim.models import KeyedVectors\n",
    "import nltk\n",
    "from sklearn.cluster import KMeans\n",
    "import warnings\n",
    "warnings.filterwarnings(\"ignore\")\n",
    "import langdetect"
   ]
  },
  {
   "cell_type": "markdown",
   "metadata": {},
   "source": [
    "## TradeSleuth"
   ]
  },
  {
   "cell_type": "code",
   "execution_count": 98,
   "metadata": {},
   "outputs": [],
   "source": [
    "df = pd.read_csv(\"../tradesleuth/teak.csv\")"
   ]
  },
  {
   "cell_type": "code",
   "execution_count": 99,
   "metadata": {},
   "outputs": [
    {
     "name": "stdout",
     "output_type": "stream",
     "text": [
      "\n",
      "===================== Final Version Code =====================\n",
      "\n",
      "\n",
      "Columns dropped correctly: True\n",
      "\n",
      "Before cleaning: 0.0 % of incorrect dates.\n",
      "Clean Dates: 0.0 % of incorrect dates.\n",
      "\n",
      "Before cleaning: 99.89006856250181 % of incorrect HS Codes.\n",
      "Clean HS Codes: 4.72415887985651 % of incorrect HS Codes.\n",
      "\n",
      "Add HS4 column: 5.564555790204531 % of incorrect values.\n",
      "\n",
      "# of missing values in Consignee before filling: 14787\n",
      "# of missing values in Consignee after filling: 0\n",
      "\n",
      "Before cleaning, 33.00257470998351 % of misspelled Consignee.\n",
      "Correct misspelling in Consignee : 22.329100008678797 % of misspelled Consignee.\n",
      "\n",
      "# of missing values in Consignee Country before filling: 20939\n",
      "# of missing values in Consignee after filling: 0\n",
      "\n",
      "Before cleaning, 30.578297219891805 % of misspelled Consignee Country.\n",
      "Correct misspelling in Consignee Country: 6.4772760146960975 % of misspelled Consignee Country.\n",
      "\n",
      "# of missing values in Shipper before filling: 19933\n",
      "# of missing values in Shipper after filling: 0\n",
      "\n",
      "Before cleaning, 39.0820724968901 % of misspelled Shipper.\n",
      "Correct misspelling in Shipper : 23.76978042641826 % of misspelled Shipper.\n",
      "\n",
      "# of missing values in Shipper Country before filling: 31339\n",
      "# of missing values in Shipper Country after filling: 0\n",
      "\n",
      "Before cleaning, 45.952787340527095 % of misspelled Shipper Country.\n",
      "Correct misspelling in Shipper Country: 10.087655856741979 % of misspelled Shipper Country.\n"
     ]
    }
   ],
   "source": [
    "print(\"\\n===================== Final Version Code =====================\\n\")\n",
    "\n",
    "print(f\"\\nColumns dropped correctly: {list(df.columns)==list(cleaned_data.columns)}\")\n",
    "\n",
    "print(f\"\\nBefore cleaning: {100*count_diff(raw_data, cleaned_data, ['Arrival Date'])/len(raw_data)} % of incorrect dates.\")\n",
    "print(f\"Clean Dates: {100*count_diff(df, cleaned_data, ['Arrival Date'])/len(df)} % of incorrect dates.\")\n",
    "\n",
    "print(f\"\\nBefore cleaning: {100*count_diff(raw_data, cleaned_data, ['HS Code'])/len(raw_data)} % of incorrect HS Codes.\")\n",
    "print(f\"Clean HS Codes: {100*count_diff(df, cleaned_data, ['HS Code'])/len(df)} % of incorrect HS Codes.\")\n",
    "\n",
    "print(f\"\\nAdd HS4 column: {100*count_diff(df, cleaned_data, ['HS4'])/len(df)} % of incorrect values.\")\n",
    "\n",
    "print(f\"\\n# of missing values in Consignee before filling: {raw_data['Consignee'].isna().sum()}\")\n",
    "print(f\"# of missing values in Consignee after filling: {df['Consignee'].isna().sum()}\")\n",
    "\n",
    "print(f\"\\nBefore cleaning, {100*count_diff(raw_data, cleaned_data, ['Consignee'])/len(raw_data)} % of misspelled Consignee.\")\n",
    "print(f\"Correct misspelling in Consignee : {100*count_diff(df, cleaned_data, ['Consignee'])/len(df)} % of misspelled Consignee.\")\n",
    "\n",
    "print(f\"\\n# of missing values in Consignee Country before filling: {raw_data['Consignee Country'].isna().sum()}\")\n",
    "print(f\"# of missing values in Consignee after filling: {df['Consignee Country'].isna().sum()}\")\n",
    "\n",
    "print(f\"\\nBefore cleaning, {100*count_diff(raw_data, cleaned_data, ['Consignee Country'])/len(raw_data)} % of misspelled Consignee Country.\")\n",
    "print(f\"Correct misspelling in Consignee Country: {100*count_diff(df, cleaned_data, ['Consignee Country'])/len(df)} % of misspelled Consignee Country.\")\n",
    "\n",
    "print(f\"\\n# of missing values in Shipper before filling: {raw_data['Shipper'].isna().sum()}\")\n",
    "print(f\"# of missing values in Shipper after filling: {df['Shipper'].isna().sum()}\")\n",
    "\n",
    "print(f\"\\nBefore cleaning, {100*count_diff(raw_data, cleaned_data, ['Shipper'])/len(raw_data)} % of misspelled Shipper.\")\n",
    "print(f\"Correct misspelling in Shipper : {100*count_diff(df, cleaned_data, ['Shipper'])/len(df)} % of misspelled Shipper.\")\n",
    "\n",
    "print(f\"\\n# of missing values in Shipper Country before filling: {raw_data['Shipper Country'].isna().sum()}\")\n",
    "print(f\"# of missing values in Shipper Country after filling: {df['Shipper Country'].isna().sum()}\")\n",
    "\n",
    "print(f\"\\nBefore cleaning, {100*count_diff(raw_data, cleaned_data, ['Shipper Country'])/len(raw_data)} % of misspelled Shipper Country.\")\n",
    "print(f\"Correct misspelling in Shipper Country: {100*count_diff(df, cleaned_data, ['Shipper Country'])/len(df)} % of misspelled Shipper Country.\")"
   ]
  },
  {
   "cell_type": "code",
   "execution_count": 100,
   "metadata": {},
   "outputs": [
    {
     "name": "stdout",
     "output_type": "stream",
     "text": [
      "Clean data by TradeSleuth:\n",
      "\n",
      "26 columns, 69134 rows\n",
      "7.093860084429124 % of missing values.\n",
      "1.028871467006104 % of incorrect formats.\n",
      "3.916488269158446 % of misspellings.\n",
      "\n",
      "97.19413357782322 % of correct values.\n",
      "\n",
      "Average time to generate correct code: 167.55034276416214 s.\n",
      "Average # of revises to generate correct code: 1.1666666666666667.\n",
      "Accepted first-time codes: 10/12.\n"
     ]
    }
   ],
   "source": [
    "print(f\"Clean data by TradeSleuth:\\n\")\n",
    "print(f\"{len(list(df.columns))} columns, {len(df)} rows\")\n",
    "print(f\"{100*df.isna().sum().sum()/(len(df)*len(df.columns))} % of missing values.\")\n",
    "print(f\"{100*count_diff(df, cleaned_data, num_cols)/(len(df)*len(num_cols))} % of incorrect formats.\")\n",
    "print(f\"{100*count_diff(df, cleaned_data, str_cols)/(len(df)*len(str_cols))} % of misspellings.\")\n",
    "print(f\"\\n{100-100*count_diff(df, cleaned_data, list(cleaned_data.columns))/(len(df)*len(cleaned_data.columns))} % of correct values.\")\n",
    "\n",
    "Time = [159.78045763168484, 135.25817073043436, 89.18256803043187, 240.36319252476096, 136.9293821733445, 244.18257671501487, 65.64140693936497, 120.78819172643125, 68.4884757520631, 464.43246026337147, 142.7786153415218, 142.7786153415218]\n",
    "\n",
    "Iteration = [1, 1, 1, 2, 1, 1, 1, 1, 1, 2, 1, 1]\n",
    "\n",
    "total_time = np.sum(Time)\n",
    "total_iteration = np.sum(Iteration)\n",
    "first_time_cnt = 0\n",
    "for i in Iteration:\n",
    "  if Iteration[i] == 1:\n",
    "    first_time_cnt += 1\n",
    "print(f\"\\nAverage time to generate correct code: {total_time/len(Time)} s.\")\n",
    "print(f\"Average # of revises to generate correct code: {total_iteration/len(Iteration)}.\")\n",
    "print(f\"Accepted first-time codes: {first_time_cnt}/{len(Iteration)}.\")"
   ]
  },
  {
   "cell_type": "markdown",
   "metadata": {},
   "source": [
    "## Baseline 1"
   ]
  },
  {
   "cell_type": "code",
   "execution_count": 107,
   "metadata": {},
   "outputs": [],
   "source": [
    "df = pd.read_csv(\"../baseline_1/teak.csv\")"
   ]
  },
  {
   "cell_type": "code",
   "execution_count": 108,
   "metadata": {},
   "outputs": [
    {
     "name": "stdout",
     "output_type": "stream",
     "text": [
      "\n",
      "===================== Final Version Code =====================\n",
      "\n",
      "\n",
      "Columns dropped correctly: True\n",
      "\n",
      "Before cleaning: 0.0 % of incorrect dates.\n",
      "Clean Dates: 100.0 % of incorrect dates.\n",
      "\n",
      "Before cleaning: 99.89006856250181 % of incorrect HS Codes.\n",
      "Clean HS Codes: 99.89006856250181 % of incorrect HS Codes.\n",
      "\n",
      "Add HS4 column: 99.89006856250181 % of incorrect values.\n",
      "\n",
      "# of missing values in Consignee before filling: 14787\n",
      "# of missing values in Consignee after filling: 0\n",
      "\n",
      "Before cleaning, 33.00257470998351 % of misspelled Consignee.\n",
      "Correct misspelling in Consignee : 100.0 % of misspelled Consignee.\n",
      "\n",
      "# of missing values in Consignee Country before filling: 20939\n",
      "# of missing values in Consignee after filling: 0\n",
      "\n",
      "Before cleaning, 30.578297219891805 % of misspelled Consignee Country.\n",
      "Correct misspelling in Consignee Country: 100.0 % of misspelled Consignee Country.\n",
      "\n",
      "# of missing values in Shipper before filling: 19933\n",
      "# of missing values in Shipper after filling: 0\n",
      "\n",
      "Before cleaning, 39.0820724968901 % of misspelled Shipper.\n",
      "Correct misspelling in Shipper : 100.0 % of misspelled Shipper.\n",
      "\n",
      "# of missing values in Shipper Country before filling: 31339\n",
      "# of missing values in Shipper Country after filling: 69134\n",
      "\n",
      "Before cleaning, 45.952787340527095 % of misspelled Shipper Country.\n",
      "Correct misspelling in Shipper Country: 100.0 % of misspelled Shipper Country.\n"
     ]
    }
   ],
   "source": [
    "print(\"\\n===================== Final Version Code =====================\\n\")\n",
    "\n",
    "print(f\"\\nColumns dropped correctly: {list(df.columns)==list(cleaned_data.columns)}\")\n",
    "\n",
    "print(f\"\\nBefore cleaning: {100*count_diff(raw_data, cleaned_data, ['Arrival Date'])/len(raw_data)} % of incorrect dates.\")\n",
    "print(f\"Clean Dates: {100*count_diff(df, cleaned_data, ['Arrival Date'])/len(df)} % of incorrect dates.\")\n",
    "\n",
    "print(f\"\\nBefore cleaning: {100*count_diff(raw_data, cleaned_data, ['HS Code'])/len(raw_data)} % of incorrect HS Codes.\")\n",
    "print(f\"Clean HS Codes: {100*count_diff(df, cleaned_data, ['HS Code'])/len(df)} % of incorrect HS Codes.\")\n",
    "\n",
    "print(f\"\\nAdd HS4 column: {100*count_diff(df, cleaned_data, ['HS4'])/len(df)} % of incorrect values.\")\n",
    "\n",
    "print(f\"\\n# of missing values in Consignee before filling: {raw_data['Consignee'].isna().sum()}\")\n",
    "print(f\"# of missing values in Consignee after filling: {df['Consignee'].isna().sum()}\")\n",
    "\n",
    "print(f\"\\nBefore cleaning, {100*count_diff(raw_data, cleaned_data, ['Consignee'])/len(raw_data)} % of misspelled Consignee.\")\n",
    "print(f\"Correct misspelling in Consignee : {100*count_diff(df, cleaned_data, ['Consignee'])/len(df)} % of misspelled Consignee.\")\n",
    "\n",
    "print(f\"\\n# of missing values in Consignee Country before filling: {raw_data['Consignee Country'].isna().sum()}\")\n",
    "print(f\"# of missing values in Consignee after filling: {df['Consignee Country'].isna().sum()}\")\n",
    "\n",
    "print(f\"\\nBefore cleaning, {100*count_diff(raw_data, cleaned_data, ['Consignee Country'])/len(raw_data)} % of misspelled Consignee Country.\")\n",
    "print(f\"Correct misspelling in Consignee Country: {100*count_diff(df, cleaned_data, ['Consignee Country'])/len(df)} % of misspelled Consignee Country.\")\n",
    "\n",
    "print(f\"\\n# of missing values in Shipper before filling: {raw_data['Shipper'].isna().sum()}\")\n",
    "print(f\"# of missing values in Shipper after filling: {df['Shipper'].isna().sum()}\")\n",
    "\n",
    "print(f\"\\nBefore cleaning, {100*count_diff(raw_data, cleaned_data, ['Shipper'])/len(raw_data)} % of misspelled Shipper.\")\n",
    "print(f\"Correct misspelling in Shipper : {100*count_diff(df, cleaned_data, ['Shipper'])/len(df)} % of misspelled Shipper.\")\n",
    "\n",
    "print(f\"\\n# of missing values in Shipper Country before filling: {raw_data['Shipper Country'].isna().sum()}\")\n",
    "print(f\"# of missing values in Shipper Country after filling: {df['Shipper Country'].isna().sum()}\")\n",
    "\n",
    "print(f\"\\nBefore cleaning, {100*count_diff(raw_data, cleaned_data, ['Shipper Country'])/len(raw_data)} % of misspelled Shipper Country.\")\n",
    "print(f\"Correct misspelling in Shipper Country: {100*count_diff(df, cleaned_data, ['Shipper Country'])/len(df)} % of misspelled Shipper Country.\")"
   ]
  },
  {
   "cell_type": "code",
   "execution_count": 109,
   "metadata": {},
   "outputs": [
    {
     "name": "stdout",
     "output_type": "stream",
     "text": [
      "Clean data by baseline-1:\n",
      "\n",
      "26 columns, 69134 rows\n",
      "10.940013930582971 % of missing values.\n",
      "29.97801371250036 % of incorrect formats.\n",
      "25.0 % of misspellings.\n",
      "\n",
      "73.08537934134601 % of correct values.\n",
      "\n",
      "Average time to generate correct code: 134.71666539871754 s.\n",
      "Average # of revises to generate correct code: 1.9166666666666667.\n",
      "Accepted first-time codes: 5/12.\n"
     ]
    }
   ],
   "source": [
    "print(f\"Clean data by baseline-1:\\n\")\n",
    "print(f\"{len(list(df.columns))} columns, {len(df)} rows\")\n",
    "print(f\"{100*df.isna().sum().sum()/(len(df)*len(df.columns))} % of missing values.\")\n",
    "print(f\"{100*count_diff(df, cleaned_data, num_cols)/(len(df)*len(num_cols))} % of incorrect formats.\")\n",
    "print(f\"{100*count_diff(df, cleaned_data, str_cols)/(len(df)*len(str_cols))} % of misspellings.\")\n",
    "print(f\"\\n{100-100*count_diff(df, cleaned_data, list(cleaned_data.columns))/(len(df)*len(cleaned_data.columns))} % of correct values.\")\n",
    "\n",
    "Time = [104.81041465420276, 87.70626959111542, 232.86481264792383, 179.2158875199966, 179.77272921567783, 193.6706806346774, 242.82476404868066, 9.17406000988558, 99.5148379993625, 93.98358555557206, 99.45217250939459, 93.60977039812133]\n",
    "Iteration = [1, 1, 6, 2, 2, 2, 2, 1, 2, 1, 2, 1]\n",
    "\n",
    "total_time = np.sum(Time)\n",
    "total_iteration = np.sum(Iteration)\n",
    "first_time_cnt = 0\n",
    "for i in Iteration:\n",
    "  if Iteration[i] == 1:\n",
    "    first_time_cnt += 1\n",
    "print(f\"\\nAverage time to generate correct code: {total_time/len(Time)} s.\")\n",
    "print(f\"Average # of revises to generate correct code: {total_iteration/len(Iteration)}.\")\n",
    "print(f\"Accepted first-time codes: {first_time_cnt}/{len(Iteration)}.\")\n"
   ]
  },
  {
   "cell_type": "markdown",
   "metadata": {},
   "source": [
    "## Baseline 2"
   ]
  },
  {
   "cell_type": "code",
   "execution_count": 103,
   "metadata": {},
   "outputs": [],
   "source": [
    "df = pd.read_csv(\"../baseline_2/teak.csv\")"
   ]
  },
  {
   "cell_type": "code",
   "execution_count": 104,
   "metadata": {},
   "outputs": [
    {
     "name": "stdout",
     "output_type": "stream",
     "text": [
      "\n",
      "===================== Final Version Code =====================\n",
      "\n",
      "\n",
      "Columns dropped correctly: True\n",
      "\n",
      "Before cleaning: 0.0 % of incorrect dates.\n",
      "Clean Dates: 0.0 % of incorrect dates.\n",
      "\n",
      "Before cleaning: 99.89006856250181 % of incorrect HS Codes.\n",
      "Clean HS Codes: 4.883270170972315 % of incorrect HS Codes.\n",
      "\n",
      "Add HS4 column: 93.67026354615673 % of incorrect values.\n",
      "\n",
      "# of missing values in Consignee before filling: 14787\n",
      "# of missing values in Consignee after filling: 0\n",
      "\n",
      "Before cleaning, 33.00257470998351 % of misspelled Consignee.\n",
      "Correct misspelling in Consignee : 22.329100008678797 % of misspelled Consignee.\n",
      "\n",
      "# of missing values in Consignee Country before filling: 20939\n",
      "# of missing values in Consignee after filling: 0\n",
      "\n",
      "Before cleaning, 30.578297219891805 % of misspelled Consignee Country.\n",
      "Correct misspelling in Consignee Country: 6.4772760146960975 % of misspelled Consignee Country.\n",
      "\n",
      "# of missing values in Shipper before filling: 19933\n",
      "# of missing values in Shipper after filling: 0\n",
      "\n",
      "Before cleaning, 39.0820724968901 % of misspelled Shipper.\n",
      "Correct misspelling in Shipper : 23.76978042641826 % of misspelled Shipper.\n",
      "\n",
      "# of missing values in Shipper Country before filling: 31339\n",
      "# of missing values in Shipper Country after filling: 0\n",
      "\n",
      "Before cleaning, 45.952787340527095 % of misspelled Shipper Country.\n",
      "Correct misspelling in Shipper Country: 10.087655856741979 % of misspelled Shipper Country.\n"
     ]
    }
   ],
   "source": [
    "print(\"\\n===================== Final Version Code =====================\\n\")\n",
    "\n",
    "print(f\"\\nColumns dropped correctly: {list(df.columns)==list(cleaned_data.columns)}\")\n",
    "\n",
    "print(f\"\\nBefore cleaning: {100*count_diff(raw_data, cleaned_data, ['Arrival Date'])/len(raw_data)} % of incorrect dates.\")\n",
    "print(f\"Clean Dates: {100*count_diff(df, cleaned_data, ['Arrival Date'])/len(df)} % of incorrect dates.\")\n",
    "\n",
    "print(f\"\\nBefore cleaning: {100*count_diff(raw_data, cleaned_data, ['HS Code'])/len(raw_data)} % of incorrect HS Codes.\")\n",
    "print(f\"Clean HS Codes: {100*count_diff(df, cleaned_data, ['HS Code'])/len(df)} % of incorrect HS Codes.\")\n",
    "\n",
    "print(f\"\\nAdd HS4 column: {100*count_diff(df, cleaned_data, ['HS4'])/len(df)} % of incorrect values.\")\n",
    "\n",
    "print(f\"\\n# of missing values in Consignee before filling: {raw_data['Consignee'].isna().sum()}\")\n",
    "print(f\"# of missing values in Consignee after filling: {df['Consignee'].isna().sum()}\")\n",
    "\n",
    "print(f\"\\nBefore cleaning, {100*count_diff(raw_data, cleaned_data, ['Consignee'])/len(raw_data)} % of misspelled Consignee.\")\n",
    "print(f\"Correct misspelling in Consignee : {100*count_diff(df, cleaned_data, ['Consignee'])/len(df)} % of misspelled Consignee.\")\n",
    "\n",
    "print(f\"\\n# of missing values in Consignee Country before filling: {raw_data['Consignee Country'].isna().sum()}\")\n",
    "print(f\"# of missing values in Consignee after filling: {df['Consignee Country'].isna().sum()}\")\n",
    "\n",
    "print(f\"\\nBefore cleaning, {100*count_diff(raw_data, cleaned_data, ['Consignee Country'])/len(raw_data)} % of misspelled Consignee Country.\")\n",
    "print(f\"Correct misspelling in Consignee Country: {100*count_diff(df, cleaned_data, ['Consignee Country'])/len(df)} % of misspelled Consignee Country.\")\n",
    "\n",
    "print(f\"\\n# of missing values in Shipper before filling: {raw_data['Shipper'].isna().sum()}\")\n",
    "print(f\"# of missing values in Shipper after filling: {df['Shipper'].isna().sum()}\")\n",
    "\n",
    "print(f\"\\nBefore cleaning, {100*count_diff(raw_data, cleaned_data, ['Shipper'])/len(raw_data)} % of misspelled Shipper.\")\n",
    "print(f\"Correct misspelling in Shipper : {100*count_diff(df, cleaned_data, ['Shipper'])/len(df)} % of misspelled Shipper.\")\n",
    "\n",
    "print(f\"\\n# of missing values in Shipper Country before filling: {raw_data['Shipper Country'].isna().sum()}\")\n",
    "print(f\"# of missing values in Shipper Country after filling: {df['Shipper Country'].isna().sum()}\")\n",
    "\n",
    "print(f\"\\nBefore cleaning, {100*count_diff(raw_data, cleaned_data, ['Shipper Country'])/len(raw_data)} % of misspelled Shipper Country.\")\n",
    "print(f\"Correct misspelling in Shipper Country: {100*count_diff(df, cleaned_data, ['Shipper Country'])/len(df)} % of misspelled Shipper Country.\")"
   ]
  },
  {
   "cell_type": "code",
   "execution_count": 105,
   "metadata": {},
   "outputs": [
    {
     "name": "stdout",
     "output_type": "stream",
     "text": [
      "Clean data by baseline-2:\n",
      "\n",
      "26 columns, 69134 rows\n",
      "7.089631952217656 % of missing values.\n"
     ]
    },
    {
     "name": "stdout",
     "output_type": "stream",
     "text": [
      "9.855353371712905 % of incorrect formats.\n",
      "3.916488269158446 % of misspellings.\n",
      "\n",
      "93.79933284524368 % of correct values.\n",
      "\n",
      "Average time to generate correct code: 141.14850775734521 s.\n",
      "Average # of revises to generate correct code: 2.0833333333333335.\n",
      "Accepted first-time codes: 1/12.\n"
     ]
    }
   ],
   "source": [
    "print(f\"Clean data by baseline-2:\\n\")\n",
    "print(f\"{len(list(df.columns))} columns, {len(df)} rows\")\n",
    "print(f\"{100*df.isna().sum().sum()/(len(df)*len(df.columns))} % of missing values.\")\n",
    "print(f\"{100*count_diff(df, cleaned_data, num_cols)/(len(df)*len(num_cols))} % of incorrect formats.\")\n",
    "print(f\"{100*count_diff(df, cleaned_data, str_cols)/(len(df)*len(str_cols))} % of misspellings.\")\n",
    "print(f\"\\n{100-100*count_diff(df, cleaned_data, list(cleaned_data.columns))/(len(df)*len(cleaned_data.columns))} % of correct values.\")\n",
    "\n",
    "Time = [195.07452119421214, 84.27515762858093, 168.22918214648962, 205.53875258378685, 6.205323563888669, 169.4208493353799, 112.87846516631544, 110.88265183288604, 65.2184274001047, 375.4974009199068, 89.55069715250283, 111.01066416408867]\n",
    "Iteration = [2, 2, 3, 2, 2, 1, 3, 2, 2, 2, 2, 2]\n",
    "\n",
    "total_time = np.sum(Time)\n",
    "total_iteration = np.sum(Iteration)\n",
    "first_time_cnt = 0\n",
    "for i in Iteration:\n",
    "  if Iteration[i] == 1:\n",
    "    first_time_cnt += 1\n",
    "print(f\"\\nAverage time to generate correct code: {total_time/len(Time)} s.\")\n",
    "print(f\"Average # of revises to generate correct code: {total_iteration/len(Iteration)}.\")\n",
    "print(f\"Accepted first-time codes: {first_time_cnt}/{len(Iteration)}.\")"
   ]
  },
  {
   "cell_type": "markdown",
   "metadata": {},
   "source": [
    "## Baseline 3"
   ]
  },
  {
   "cell_type": "code",
   "execution_count": 144,
   "metadata": {},
   "outputs": [],
   "source": [
    "df = pd.read_csv(\"../baseline_3/teak.csv\")"
   ]
  },
  {
   "cell_type": "code",
   "execution_count": 145,
   "metadata": {},
   "outputs": [
    {
     "name": "stdout",
     "output_type": "stream",
     "text": [
      "\n",
      "===================== Final Version Code =====================\n",
      "\n",
      "\n",
      "Columns dropped correctly: True\n",
      "\n",
      "Before cleaning: 0.0 % of incorrect dates.\n",
      "Clean Dates: 0.0 % of incorrect dates.\n",
      "\n",
      "Before cleaning: 99.89006856250181 % of incorrect HS Codes.\n",
      "Clean HS Codes: 4.72415887985651 % of incorrect HS Codes.\n",
      "\n",
      "Add HS4 column: 5.564555790204531 % of incorrect values.\n",
      "\n",
      "# of missing values in Consignee before filling: 14787\n",
      "# of missing values in Consignee after filling: 0\n",
      "\n",
      "Before cleaning, 33.00257470998351 % of misspelled Consignee.\n",
      "Correct misspelling in Consignee : 22.329100008678797 % of misspelled Consignee.\n",
      "\n",
      "# of missing values in Consignee Country before filling: 20939\n",
      "# of missing values in Consignee after filling: 0\n",
      "\n",
      "Before cleaning, 30.578297219891805 % of misspelled Consignee Country.\n",
      "Correct misspelling in Consignee Country: 6.4772760146960975 % of misspelled Consignee Country.\n",
      "\n",
      "# of missing values in Shipper before filling: 19933\n",
      "# of missing values in Shipper after filling: 0\n",
      "\n",
      "Before cleaning, 39.0820724968901 % of misspelled Shipper.\n",
      "Correct misspelling in Shipper : 23.76978042641826 % of misspelled Shipper.\n",
      "\n",
      "# of missing values in Shipper Country before filling: 31339\n",
      "# of missing values in Shipper Country after filling: 0\n",
      "\n",
      "Before cleaning, 45.952787340527095 % of misspelled Shipper Country.\n",
      "Correct misspelling in Shipper Country: 10.087655856741979 % of misspelled Shipper Country.\n"
     ]
    }
   ],
   "source": [
    "print(\"\\n===================== Final Version Code =====================\\n\")\n",
    "\n",
    "print(f\"\\nColumns dropped correctly: {list(df.columns)==list(cleaned_data.columns)}\")\n",
    "\n",
    "print(f\"\\nBefore cleaning: {100*count_diff(raw_data, cleaned_data, ['Arrival Date'])/len(raw_data)} % of incorrect dates.\")\n",
    "print(f\"Clean Dates: {100*count_diff(df, cleaned_data, ['Arrival Date'])/len(df)} % of incorrect dates.\")\n",
    "\n",
    "print(f\"\\nBefore cleaning: {100*count_diff(raw_data, cleaned_data, ['HS Code'])/len(raw_data)} % of incorrect HS Codes.\")\n",
    "print(f\"Clean HS Codes: {100*count_diff(df, cleaned_data, ['HS Code'])/len(df)} % of incorrect HS Codes.\")\n",
    "\n",
    "print(f\"\\nAdd HS4 column: {100*count_diff(df, cleaned_data, ['HS4'])/len(df)} % of incorrect values.\")\n",
    "\n",
    "print(f\"\\n# of missing values in Consignee before filling: {raw_data['Consignee'].isna().sum()}\")\n",
    "print(f\"# of missing values in Consignee after filling: {df['Consignee'].isna().sum()}\")\n",
    "\n",
    "print(f\"\\nBefore cleaning, {100*count_diff(raw_data, cleaned_data, ['Consignee'])/len(raw_data)} % of misspelled Consignee.\")\n",
    "print(f\"Correct misspelling in Consignee : {100*count_diff(df, cleaned_data, ['Consignee'])/len(df)} % of misspelled Consignee.\")\n",
    "\n",
    "print(f\"\\n# of missing values in Consignee Country before filling: {raw_data['Consignee Country'].isna().sum()}\")\n",
    "print(f\"# of missing values in Consignee after filling: {df['Consignee Country'].isna().sum()}\")\n",
    "\n",
    "print(f\"\\nBefore cleaning, {100*count_diff(raw_data, cleaned_data, ['Consignee Country'])/len(raw_data)} % of misspelled Consignee Country.\")\n",
    "print(f\"Correct misspelling in Consignee Country: {100*count_diff(df, cleaned_data, ['Consignee Country'])/len(df)} % of misspelled Consignee Country.\")\n",
    "\n",
    "print(f\"\\n# of missing values in Shipper before filling: {raw_data['Shipper'].isna().sum()}\")\n",
    "print(f\"# of missing values in Shipper after filling: {df['Shipper'].isna().sum()}\")\n",
    "\n",
    "print(f\"\\nBefore cleaning, {100*count_diff(raw_data, cleaned_data, ['Shipper'])/len(raw_data)} % of misspelled Shipper.\")\n",
    "print(f\"Correct misspelling in Shipper : {100*count_diff(df, cleaned_data, ['Shipper'])/len(df)} % of misspelled Shipper.\")\n",
    "\n",
    "print(f\"\\n# of missing values in Shipper Country before filling: {raw_data['Shipper Country'].isna().sum()}\")\n",
    "print(f\"# of missing values in Shipper Country after filling: {df['Shipper Country'].isna().sum()}\")\n",
    "\n",
    "print(f\"\\nBefore cleaning, {100*count_diff(raw_data, cleaned_data, ['Shipper Country'])/len(raw_data)} % of misspelled Shipper Country.\")\n",
    "print(f\"Correct misspelling in Shipper Country: {100*count_diff(df, cleaned_data, ['Shipper Country'])/len(df)} % of misspelled Shipper Country.\")"
   ]
  },
  {
   "cell_type": "code",
   "execution_count": 3,
   "metadata": {},
   "outputs": [
    {
     "name": "stdout",
     "output_type": "stream",
     "text": [
      "Clean data by baseline-3:\n",
      "\n",
      "26 columns, 69134 rows\n",
      "7.089631952217656 % of missing values.\n",
      "1.028871467006104 % of incorrect formats.\n",
      "3.916488269158446 % of misspellings.\n",
      "\n",
      "Average time to generate correct code: 555.2173936309492 s.\n",
      "Average # of revises to generate correct code: 1.4166666666666667.\n",
      "Accepted first-time codes: 12/12.\n"
     ]
    }
   ],
   "source": [
    "print(f\"Clean data by baseline-2:\\n\")\n",
    "print(f\"{len(list(df.columns))} columns, {len(df)} rows\")\n",
    "print(f\"{100*df.isna().sum().sum()/(len(df)*len(df.columns))} % of missing values.\")\n",
    "print(f\"{100*count_diff(df, cleaned_data, num_cols)/(len(df)*len(num_cols))} % of incorrect formats.\")\n",
    "print(f\"{100*count_diff(df, cleaned_data, str_cols)/(len(df)*len(str_cols))} % of misspellings.\")\n",
    "print(f\"\\n{100-100*count_diff(df, cleaned_data, list(cleaned_data.columns))/(len(df)*len(cleaned_data.columns))} % of correct values.\")\n",
    "\n",
    "Time = [514.66955789450556, 116.55049728695303, 481.37174175400287, 481.37174175400287, 201.22372320853174, 98.16172056639232, 466.15070746745914, 134.13488231692463, 840.76356662251055, 346.8426979202777, 220.65704703330994, 2760.7108397465199]\n",
    "Iteration = [2, 1, 1, 1, 1, 1, 1, 1, 2, 1, 1, 4]\n",
    "\n",
    "total_time = np.sum(Time)\n",
    "total_iteration = np.sum(Iteration)\n",
    "first_time_cnt = 0\n",
    "for i in Iteration:\n",
    "  if Iteration[i] == 1:\n",
    "    first_time_cnt += 1\n",
    "print(f\"\\nAverage time to generate correct code: {total_time/len(Time)} s.\")\n",
    "print(f\"Average # of revises to generate correct code: {total_iteration/len(Iteration)}.\")\n",
    "print(f\"Accepted first-time codes: {first_time_cnt}/{len(Iteration)}.\")"
   ]
  }
 ],
 "metadata": {
  "kernelspec": {
   "display_name": "Python 3",
   "language": "python",
   "name": "python3"
  },
  "language_info": {
   "codemirror_mode": {
    "name": "ipython",
    "version": 3
   },
   "file_extension": ".py",
   "mimetype": "text/x-python",
   "name": "python",
   "nbconvert_exporter": "python",
   "pygments_lexer": "ipython3",
   "version": "3.10.13"
  }
 },
 "nbformat": 4,
 "nbformat_minor": 2
}
